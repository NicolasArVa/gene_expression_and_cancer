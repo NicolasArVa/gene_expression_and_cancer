{
 "cells": [
  {
   "cell_type": "code",
   "execution_count": 17,
   "id": "553a106e",
   "metadata": {},
   "outputs": [],
   "source": [
    "import pandas as pd\n",
    "import numpy as np\n",
    "from sklearn.preprocessing import StandardScaler\n",
    "from sklearn.decomposition import PCA\n",
    "import matplotlib.pyplot as plt\n",
    "\n",
    "from sklearn.model_selection import train_test_split\n",
    "from sklearn.neighbors import KNeighborsClassifier\n",
    "from sklearn.metrics import accuracy_score, confusion_matrix, classification_report"
   ]
  },
  {
   "cell_type": "markdown",
   "id": "250b7e58",
   "metadata": {},
   "source": [
    "## Load Data"
   ]
  },
  {
   "cell_type": "code",
   "execution_count": 3,
   "id": "4edc6e13",
   "metadata": {},
   "outputs": [
    {
     "name": "stderr",
     "output_type": "stream",
     "text": [
      "<>:1: SyntaxWarning: invalid escape sequence '\\.'\n",
      "<>:2: SyntaxWarning: invalid escape sequence '\\.'\n",
      "<>:1: SyntaxWarning: invalid escape sequence '\\.'\n",
      "<>:2: SyntaxWarning: invalid escape sequence '\\.'\n",
      "C:\\Users\\ayarmanco\\AppData\\Local\\Temp\\ipykernel_40148\\923119767.py:1: SyntaxWarning: invalid escape sequence '\\.'\n",
      "  data = pd.read_csv(\"~\\.cache\\kagglehub\\datasets\\waalbannyantudre\\gene-expression-cancer-rna-seq-donated-on-682016\\\\versions\\\\1\\data.csv\")\n",
      "C:\\Users\\ayarmanco\\AppData\\Local\\Temp\\ipykernel_40148\\923119767.py:2: SyntaxWarning: invalid escape sequence '\\.'\n",
      "  labels = pd.read_csv(\"~\\.cache\\kagglehub\\datasets\\waalbannyantudre\\gene-expression-cancer-rna-seq-donated-on-682016\\\\versions\\\\1\\labels.csv\")\n"
     ]
    }
   ],
   "source": [
    "data = pd.read_csv(\"~\\.cache\\kagglehub\\datasets\\waalbannyantudre\\gene-expression-cancer-rna-seq-donated-on-682016\\\\versions\\\\1\\data.csv\")\n",
    "labels = pd.read_csv(\"~\\.cache\\kagglehub\\datasets\\waalbannyantudre\\gene-expression-cancer-rna-seq-donated-on-682016\\\\versions\\\\1\\labels.csv\")"
   ]
  },
  {
   "cell_type": "markdown",
   "id": "0dcfeb66",
   "metadata": {},
   "source": [
    "## Pre-Processing"
   ]
  },
  {
   "cell_type": "code",
   "execution_count": 56,
   "id": "063fa36e",
   "metadata": {},
   "outputs": [],
   "source": [
    "data = data.rename(columns={\"Unnamed: 0\": \"sample_id\"})\n",
    "labels = labels.rename(columns={\"Unnamed: 0\": \"sample_id\"})\n",
    "genes = data.filter(regex=\"gene_\")\n",
    "scaler = StandardScaler()\n",
    "scaled_data = scaler.fit_transform(genes)"
   ]
  },
  {
   "cell_type": "markdown",
   "id": "9e6ab318",
   "metadata": {},
   "source": [
    "## KNN Implementation"
   ]
  },
  {
   "cell_type": "code",
   "execution_count": 59,
   "id": "cf14332d",
   "metadata": {},
   "outputs": [
    {
     "name": "stdout",
     "output_type": "stream",
     "text": [
      "Accuracy: 0.9937888198757764\n",
      "\n",
      "Confusion Matrix:\n",
      " [[60  0  0  1  0]\n",
      " [ 0 17  0  0  0]\n",
      " [ 0  0 25  0  0]\n",
      " [ 0  0  0 29  0]\n",
      " [ 0  0  0  0 29]]\n",
      "\n",
      "Classification Report:\n",
      "               precision    recall  f1-score   support\n",
      "\n",
      "        BRCA       1.00      0.98      0.99        61\n",
      "        COAD       1.00      1.00      1.00        17\n",
      "        KIRC       1.00      1.00      1.00        25\n",
      "        LUAD       0.97      1.00      0.98        29\n",
      "        PRAD       1.00      1.00      1.00        29\n",
      "\n",
      "    accuracy                           0.99       161\n",
      "   macro avg       0.99      1.00      0.99       161\n",
      "weighted avg       0.99      0.99      0.99       161\n",
      "\n"
     ]
    }
   ],
   "source": [
    "X_train, X_test, y_train, y_test = train_test_split(\n",
    "    scaled_data, labels[\"Class\"], test_size=0.2, random_state=42\n",
    ")\n",
    "\n",
    "# Initialize KNN (adjust n_neighbors as needed)\n",
    "knn = KNeighborsClassifier(n_neighbors=5)\n",
    "\n",
    "# Train the model\n",
    "knn.fit(X_train, y_train)\n",
    "y_pred = knn.predict(X_test)\n",
    "\n",
    "print(\"Accuracy:\", accuracy_score(y_test, y_pred))\n",
    "print(\"\\nConfusion Matrix:\\n\", confusion_matrix(y_test, y_pred))\n",
    "print(\"\\nClassification Report:\\n\", classification_report(y_test, y_pred))"
   ]
  },
  {
   "cell_type": "markdown",
   "id": "992b8522",
   "metadata": {},
   "source": [
    "## PCA Before KNN Implementation"
   ]
  },
  {
   "cell_type": "code",
   "execution_count": 60,
   "id": "02da7445",
   "metadata": {},
   "outputs": [
    {
     "data": {
      "image/png": "[encoded data removed]",
      "text/plain": [
       "<Figure size 640x480 with 1 Axes>"
      ]
     },
     "metadata": {},
     "output_type": "display_data"
    }
   ],
   "source": [
    "# Initialize PCA (specify components or retain variance)\n",
    "pca = PCA(n_components=100)\n",
    "principal_components = pca.fit_transform(scaled_data)\n",
    "\n",
    "# Calculate explained variance and cumulative variance\n",
    "explained_variance = pca.explained_variance_ratio_\n",
    "components = range(len(explained_variance))\n",
    "\n",
    "# Bar plot for individual explained variance\n",
    "bars = plt.bar(components, explained_variance, alpha=0.6, color='skyblue', label='Individual Variance')\n",
    "\n",
    "# Labels and title\n",
    "plt.xlabel('Components')\n",
    "plt.ylabel('Explained Variance Ratio')\n",
    "plt.title(f'First {len(explained_variance)} Component:\\n{sum(explained_variance)*100:.2f}% of Variance Explained')\n",
    "plt.grid(True, alpha=0.3)\n",
    "\n",
    "plt.show()"
   ]
  },
  {
   "cell_type": "code",
   "execution_count": 58,
   "id": "a2e4a3ea",
   "metadata": {},
   "outputs": [
    {
     "name": "stdout",
     "output_type": "stream",
     "text": [
      "Accuracy: 1.0\n",
      "\n",
      "Confusion Matrix:\n",
      " [[61  0  0  0  0]\n",
      " [ 0 17  0  0  0]\n",
      " [ 0  0 25  0  0]\n",
      " [ 0  0  0 29  0]\n",
      " [ 0  0  0  0 29]]\n",
      "\n",
      "Classification Report:\n",
      "               precision    recall  f1-score   support\n",
      "\n",
      "        BRCA       1.00      1.00      1.00        61\n",
      "        COAD       1.00      1.00      1.00        17\n",
      "        KIRC       1.00      1.00      1.00        25\n",
      "        LUAD       1.00      1.00      1.00        29\n",
      "        PRAD       1.00      1.00      1.00        29\n",
      "\n",
      "    accuracy                           1.00       161\n",
      "   macro avg       1.00      1.00      1.00       161\n",
      "weighted avg       1.00      1.00      1.00       161\n",
      "\n"
     ]
    }
   ],
   "source": [
    "X_train, X_test, y_train, y_test = train_test_split(\n",
    "    scaled_data, labels[\"Class\"], test_size=0.2, random_state=42\n",
    ")\n",
    "\n",
    "pca = PCA(n_components=100)\n",
    "X_train = pca.fit_transform(X_train)\n",
    "\n",
    "# Initialize KNN (adjust n_neighbors as needed)\n",
    "knn = KNeighborsClassifier(n_neighbors=5)\n",
    "\n",
    "# Train the model\n",
    "knn.fit(X_train, y_train)\n",
    "\n",
    "X_test = pca.transform(X_test)\n",
    "y_pred = knn.predict(X_test)\n",
    "\n",
    "print(\"Accuracy:\", accuracy_score(y_test, y_pred))\n",
    "print(\"\\nConfusion Matrix:\\n\", confusion_matrix(y_test, y_pred))\n",
    "print(\"\\nClassification Report:\\n\", classification_report(y_test, y_pred))"
   ]
  },
  {
   "cell_type": "markdown",
   "id": "10fc8d84",
   "metadata": {},
   "source": [
    "## UMAP Before KNN Implementation"
   ]
  },
  {
   "cell_type": "code",
   "execution_count": 62,
   "id": "617c3532",
   "metadata": {},
   "outputs": [
    {
     "name": "stderr",
     "output_type": "stream",
     "text": [
      "c:\\Users\\ayarmanco\\personalworkspace\\kaggle_env\\.venv\\Lib\\site-packages\\tqdm\\auto.py:21: TqdmWarning: IProgress not found. Please update jupyter and ipywidgets. See https://ipywidgets.readthedocs.io/en/stable/user_install.html\n",
      "  from .autonotebook import tqdm as notebook_tqdm\n"
     ]
    }
   ],
   "source": [
    "import umap"
   ]
  },
  {
   "cell_type": "code",
   "execution_count": null,
   "id": "45452ca4",
   "metadata": {},
   "outputs": [
    {
     "name": "stderr",
     "output_type": "stream",
     "text": [
      "c:\\Users\\ayarmanco\\personalworkspace\\kaggle_env\\.venv\\Lib\\site-packages\\umap\\umap_.py:1952: UserWarning: n_jobs value 1 overridden to 1 by setting random_state. Use no seed for parallelism.\n",
      "  warn(\n"
     ]
    }
   ],
   "source": [
    "reducer = umap.UMAP(random_state=42)\n",
    "embeddings = reducer.fit_transform(scaled_data)"
   ]
  },
  {
   "cell_type": "code",
   "execution_count": 66,
   "id": "89b57e50",
   "metadata": {},
   "outputs": [],
   "source": [
    "import sys\n",
    "import os\n",
    "project_root = os.path.dirname(os.getcwd())\n",
    "if project_root not in sys.path:\n",
    "    sys.path.insert(0, project_root)\n",
    "\n",
    "from utils.display_plots import plot"
   ]
  },
  {
   "cell_type": "code",
   "execution_count": 68,
   "id": "86c2d886",
   "metadata": {},
   "outputs": [
    {
     "data": {
      "image/png": "[encoded data removed]",
      "text/plain": [
       "<Figure size 640x480 with 1 Axes>"
      ]
     },
     "metadata": {},
     "output_type": "display_data"
    }
   ],
   "source": [
    "plot(embeddings, labels=labels[\"Class\"], title='UMAP')"
   ]
  },
  {
   "cell_type": "code",
   "execution_count": 71,
   "id": "1d035ab4",
   "metadata": {},
   "outputs": [
    {
     "name": "stderr",
     "output_type": "stream",
     "text": [
      "c:\\Users\\ayarmanco\\personalworkspace\\kaggle_env\\.venv\\Lib\\site-packages\\umap\\umap_.py:1952: UserWarning: n_jobs value 1 overridden to 1 by setting random_state. Use no seed for parallelism.\n",
      "  warn(\n"
     ]
    },
    {
     "name": "stdout",
     "output_type": "stream",
     "text": [
      "Accuracy: 1.0\n",
      "\n",
      "Confusion Matrix:\n",
      " [[61  0  0  0  0]\n",
      " [ 0 17  0  0  0]\n",
      " [ 0  0 25  0  0]\n",
      " [ 0  0  0 29  0]\n",
      " [ 0  0  0  0 29]]\n",
      "\n",
      "Classification Report:\n",
      "               precision    recall  f1-score   support\n",
      "\n",
      "        BRCA       1.00      1.00      1.00        61\n",
      "        COAD       1.00      1.00      1.00        17\n",
      "        KIRC       1.00      1.00      1.00        25\n",
      "        LUAD       1.00      1.00      1.00        29\n",
      "        PRAD       1.00      1.00      1.00        29\n",
      "\n",
      "    accuracy                           1.00       161\n",
      "   macro avg       1.00      1.00      1.00       161\n",
      "weighted avg       1.00      1.00      1.00       161\n",
      "\n"
     ]
    }
   ],
   "source": [
    "X_train, X_test, y_train, y_test = train_test_split(\n",
    "    scaled_data, labels[\"Class\"], test_size=0.2, random_state=42\n",
    ")\n",
    "\n",
    "reducer = umap.UMAP(n_components=2, random_state=42)\n",
    "X_train = reducer.fit_transform(X_train)\n",
    "\n",
    "# Initialize KNN (adjust n_neighbors as needed)\n",
    "knn = KNeighborsClassifier(n_neighbors=5)\n",
    "\n",
    "# Train the model\n",
    "knn.fit(X_train, y_train)\n",
    "\n",
    "X_test = reducer.transform(X_test)\n",
    "y_pred = knn.predict(X_test)\n",
    "\n",
    "print(\"Accuracy:\", accuracy_score(y_test, y_pred))\n",
    "print(\"\\nConfusion Matrix:\\n\", confusion_matrix(y_test, y_pred))\n",
    "print(\"\\nClassification Report:\\n\", classification_report(y_test, y_pred))"
   ]
  }
 ],
 "metadata": {
  "kernelspec": {
   "display_name": ".venv",
   "language": "python",
   "name": "python3"
  },
  "language_info": {
   "codemirror_mode": {
    "name": "ipython",
    "version": 3
   },
   "file_extension": ".py",
   "mimetype": "text/x-python",
   "name": "python",
   "nbconvert_exporter": "python",
   "pygments_lexer": "ipython3",
   "version": "3.12.4"
  }
 },
 "nbformat": 4,
 "nbformat_minor": 5
}
